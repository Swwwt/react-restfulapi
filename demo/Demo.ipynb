{
 "cells": [
  {
   "cell_type": "markdown",
   "metadata": {},
   "source": [
    "\n",
    "### MyApps\n",
    "\n",
    "- *Title*\n",
    "- *Button*\n",
    "    - => PopupCreateApp\n",
    "        - *Popup/PopupInner*\n",
    "            - *H2*\n",
    "            - AppInputInfo\n",
    "                - *Label*\n",
    "                - *Input*\n",
    "            - *Select*\n",
    "            - *ButtonSmall*2*\n",
    "- ApplicationTable\n",
    "    - *Th*\n",
    "    - AppInfo\n",
    "        - *Td*\n",
    "        - => PopupAppInfo\n",
    "            - *Popup/PopupInner*\n",
    "                - *H2*\n",
    "                - *Label*\n",
    "                - *Text*\n",
    "                - *ButtonSmall*\n",
    "        - => PopupUserInfo\n",
    "            - *Popup/PopupInner*\n",
    "                - *H2*\n",
    "                - *Label*\n",
    "                - *Text*\n",
    "                - *ButtonSmall*\n",
    "                \n",
    "         "
   ]
  },
  {
   "cell_type": "markdown",
   "metadata": {},
   "source": [
    "### CORS\n",
    "https://stackoverflow.com/questions/31942037/how-to-enable-cors-in-asp-net-core/31942128"
   ]
  },
  {
   "cell_type": "markdown",
   "metadata": {},
   "source": [
    "## CSS\n",
    "https://medium.com/@dmitrynozhenko/9-ways-to-implement-css-in-react-js-ccea4d543aa3"
   ]
  },
  {
   "cell_type": "markdown",
   "metadata": {},
   "source": [
    "- Standard CSS\n",
    "- Inline CSS\n",
    "- CSS Modules\n",
    "- Preprocessors SASS, less, styles, etc\n",
    "- `Styled Components`\n",
    "- Aphrodite\n",
    "- Radium\n",
    "- JSS\n",
    "- Emotion\n",
    "\n",
    "感觉重装了所有依赖才odk"
   ]
  }
 ],
 "metadata": {
  "kernelspec": {
   "display_name": "Python 3",
   "language": "python",
   "name": "python3"
  },
  "language_info": {
   "codemirror_mode": {
    "name": "ipython",
    "version": 3
   },
   "file_extension": ".py",
   "mimetype": "text/x-python",
   "name": "python",
   "nbconvert_exporter": "python",
   "pygments_lexer": "ipython3",
   "version": "3.7.0"
  }
 },
 "nbformat": 4,
 "nbformat_minor": 2
}
